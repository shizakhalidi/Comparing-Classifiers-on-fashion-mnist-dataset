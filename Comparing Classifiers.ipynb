{
 "cells": [
  {
   "cell_type": "code",
   "execution_count": 8,
   "metadata": {},
   "outputs": [],
   "source": [
    "import csv\n",
    "import numpy as np\n",
    "import pandas as pd\n",
    "import numpy as np\n",
    "import matplotlib.pyplot as plt\n",
    "%matplotlib inline\n",
    "import sklearn\n",
    "from sklearn.externals import joblib\n",
    "from sklearn.tree import DecisionTreeClassifier\n",
    "from sklearn.ensemble import RandomForestClassifier\n",
    "from sklearn.neural_network import MLPClassifier\n",
    "from sklearn.model_selection import train_test_split\n",
    "from sklearn.metrics import accuracy_score\n",
    "from sklearn.metrics import classification_report, confusion_matrix\n",
    "\n",
    "\n",
    "\n"
   ]
  },
  {
   "cell_type": "code",
   "execution_count": 9,
   "metadata": {},
   "outputs": [],
   "source": [
    "def load_file(fileName):\n",
    "    dataset = pd.read_table(fileName, header=0, sep=\",\", encoding=\"unicode_escape\")\n",
    "    \n",
    "    return dataset"
   ]
  },
  {
   "cell_type": "code",
   "execution_count": 10,
   "metadata": {},
   "outputs": [],
   "source": [
    "# preprocess creates the term frequency matrix for the review data set\n",
    "def preprocess(data):\n",
    "    count_vectorizer = CountVectorizer()\n",
    "    data = count_vectorizer.fit_transform(data)\n",
    "    #tfidf_data = TfidfTransformer(use_idf=False).fit_transform(data)\n",
    "\n",
    "    return data"
   ]
  },
  {
   "cell_type": "code",
   "execution_count": 11,
   "metadata": {},
   "outputs": [],
   "source": [
    "def learn_model(model_num,data,target):\n",
    "  \n",
    "    \n",
    "    if model_num==1:\n",
    "        classifier = DecisionTreeClassifier()\n",
    "        classifier=classifier.fit(data,target)\n",
    "        \n",
    "    if model_num==2:\n",
    "        classifier = MLPClassifier(verbose=True,hidden_layer_sizes=(10, 10, 10), max_iter=1000)\n",
    "        classifier=classifier.fit(data, target.values.ravel())\n",
    "        \n",
    "    if model_num==3:\n",
    "        classifier = RandomForestClassifier(n_estimators=20, random_state=0)\n",
    "        classifier.fit(data,target)\n",
    "        \n",
    "    return classifier"
   ]
  },
  {
   "cell_type": "code",
   "execution_count": 12,
   "metadata": {},
   "outputs": [],
   "source": [
    "def classify(classifier, testdata):\n",
    "    \n",
    "    predicted_val=[]\n",
    "    predicted_val = classifier.predict(testdata)\n",
    "    \n",
    "    \n",
    "    return predicted_val"
   ]
  },
  {
   "cell_type": "code",
   "execution_count": 13,
   "metadata": {},
   "outputs": [],
   "source": [
    "def evaluate(actual_class, predicted_class):\n",
    "        \n",
    "    accuracy = -1    \n",
    "    #print(confusion_matrix(actual_class, predicted_class))\n",
    "    #print(classification_report(actual_class, predicted_class))\n",
    "    accuracy = accuracy_score(actual_class, predicted_class)\n",
    "    \n",
    "    \n",
    "    print(\"The accuracy score is :\",accuracy)"
   ]
  },
  {
   "cell_type": "code",
   "execution_count": 14,
   "metadata": {},
   "outputs": [
    {
     "name": "stdout",
     "output_type": "stream",
     "text": [
      "Loading data.....\n",
      "model1 : Decision Tree Classifier\n",
      "Learning model.....1\n",
      "Classifying test data......1\n",
      "Evaluating results.....1\n",
      "The accuracy score is : 0.7998\n",
      "model2 :  MLP Classifier\n",
      "Learning model.....2\n",
      "Classifying test data......2\n",
      "Evaluating results.....2\n",
      "The accuracy score is : 0.7987\n",
      "model3 :  Random Forest Classifier\n",
      "Learning model.....3\n",
      "Learning model.....3\n",
      "Classifying test data......3\n",
      "Evaluating results.....3\n",
      "The accuracy score is : 0.8744\n"
     ]
    }
   ],
   "source": [
    "print(\"Loading data.....\")\n",
    "dataset_train = load_file(\"fashion-mnist_train.csv\")\n",
    "\n",
    "\n",
    "y_train = dataset_train['label']\n",
    "X_train = dataset_train.drop('label', axis=1)\n",
    "\n",
    "\n",
    "#X_train, X_test, y_train, y_test = train_test_split(X_train, y_train, test_size=0.00001)\n",
    "\n",
    "dataset_test = load_file(\"fashion-mnist_test.csv\")\n",
    "\n",
    "y_test = dataset_test['label'] #y is the label\n",
    "X_test = dataset_test.drop('label', axis=1) # X is the input vectors\n",
    "\n",
    "\n",
    "#print(len(y_train))\n",
    "\n",
    "y_train_array=np.array(y_train)\n",
    "y_train_array=np.reshape(y_train_array,(60000, 1))\n",
    "X_train_array=np.array(X_train)\n",
    "X_train_array= np.reshape(X_train_array,(60000, 784))\n",
    "\n",
    "X_test_array=np.array(X_test)\n",
    "X_test_array=np.reshape(X_test_array,(10000, 784))\n",
    "y_test_array=np.array(y_test)\n",
    "y_test_array= np.reshape(y_test_array,(10000, 1))\n",
    "\n",
    "\n",
    "#print(X_train_array)\n",
    "#print(y_train_array)\n",
    "\n",
    "print(\"model1 : Decision Tree Classifier\")\n",
    "print(\"Learning model.....1\")\n",
    "model_num=1\n",
    "model = learn_model(model_num,X_train_array,y_train_array)\n",
    "print(\"Classifying test data......1\")\n",
    "predictedY = classify(model, X_test_array)\n",
    "print(\"Evaluating results.....1\")\n",
    "evaluate(y_test,predictedY)\n",
    "\n",
    "print(\"model2 :  MLP Classifier\")\n",
    "print(\"Learning model.....2\")\n",
    "model_num=1\n",
    "model = learn_model(model_num,X_train,y_train)\n",
    "print(\"Classifying test data......2\")\n",
    "predictedY = classify(model, X_test)\n",
    "print(\"Evaluating results.....2\")\n",
    "evaluate(y_test,predictedY)\n",
    "\n",
    "print(\"model3 :  Random Forest Classifier\")\n",
    "print(\"Learning model.....3\")\n",
    "model_num=3\n",
    "print(\"Learning model.....3\")\n",
    "model = learn_model(model_num,X_train,y_train)\n",
    "print(\"Classifying test data......3\")\n",
    "predictedY = classify(model, X_test)\n",
    "print(\"Evaluating results.....3\")\n",
    "evaluate(y_test,predictedY)\n",
    "\n",
    "\n"
   ]
  }
 ],
 "metadata": {
  "kernelspec": {
   "display_name": "Python 3",
   "language": "python",
   "name": "python3"
  },
  "language_info": {
   "codemirror_mode": {
    "name": "ipython",
    "version": 3
   },
   "file_extension": ".py",
   "mimetype": "text/x-python",
   "name": "python",
   "nbconvert_exporter": "python",
   "pygments_lexer": "ipython3",
   "version": "3.8.3"
  }
 },
 "nbformat": 4,
 "nbformat_minor": 2
}
